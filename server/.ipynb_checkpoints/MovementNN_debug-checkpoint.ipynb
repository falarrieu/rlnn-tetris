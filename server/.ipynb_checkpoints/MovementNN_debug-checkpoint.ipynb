{
 "cells": [
  {
   "cell_type": "code",
   "execution_count": 11,
   "id": "73632d58",
   "metadata": {},
   "outputs": [],
   "source": [
    "from NeuralNetwork import NeuralNetwork\n",
    "import numpy as np\n",
    "import random\n",
    "from Board import Board\n",
    "from Game import Game\n",
    "import sys"
   ]
  },
  {
   "cell_type": "code",
   "execution_count": 12,
   "id": "4bf73c26",
   "metadata": {},
   "outputs": [],
   "source": [
    "game = Game()"
   ]
  },
  {
   "cell_type": "code",
   "execution_count": 13,
   "id": "ca5c4fd7",
   "metadata": {},
   "outputs": [],
   "source": [
    "#The valid actions array is an important input to the reinforcement learning model,\n",
    "# as it constrains the set of actions that the model can choose from in each state.\n",
    "# By specifying the valid actions array, you can ensure that the model only learns to\n",
    "# choose actions that are valid in the current state of the game, and avoid actions that\n",
    "# would result in an invalid game state.\n",
    "\n",
    "# valid_actions = [left, right, CC, CW, drop]\n",
    "valid_actions = [0, 1, 2, 3, 4] "
   ]
  },
  {
   "cell_type": "code",
   "execution_count": 14,
   "id": "c7fd1a8d",
   "metadata": {},
   "outputs": [],
   "source": [
    "# Remember that we used ϵ to indicate the probability of taking a random action.\n",
    "# Its value is from 0 to 1. Given a Q net, called Qnet, the current state,\n",
    "# the set of valid_actions and epsilon, we can define a function that either returns\n",
    "# a random choice from valid_actions or the best action determined by the values\n",
    "# of Q produced by Qnet for the current state and all valid_actions. \n",
    "# This is referred to as an ϵ-greedy policy.\n",
    "\n",
    "def epsilon_greedy(Qnet, state, valid_actions, epsilon):\n",
    "    '''epsilon is between 0 and 1 and is the probability of returning a random action'''\n",
    "    valid_actions = game.getValidActions()\n",
    "    if np.random.uniform() < epsilon:\n",
    "        # Random Move\n",
    "        action = np.random.choice(valid_actions)\n",
    "        \n",
    "    else:\n",
    "        # Greedy Move\n",
    "        actions_randomly_ordered = random.sample(valid_actions, len(valid_actions))\n",
    "        Qs = [Qnet.use(np.array(state)) for a in actions_randomly_ordered]\n",
    "        ai = np.argmax(Qs)\n",
    "        action = actions_randomly_ordered[ai]\n",
    "        \n",
    "    Q = Qnet.use(np.array(state))\n",
    "    \n",
    "    return action, Q   # return the chosen action and Q(state, action)"
   ]
  },
  {
   "cell_type": "code",
   "execution_count": 15,
   "id": "efca8a3f",
   "metadata": {},
   "outputs": [],
   "source": [
    "# Initial state should return board state and initial piece state\n",
    "def initial_state():   \n",
    "    return game.getBoard(), game.getPiece() \n",
    "\n",
    "# Next state needs to be the previous frame altered by the action\n",
    "def next_state(s, a):\n",
    "    return game.getNextFrame(s, a)\n",
    "\n",
    "def reinf(s, sn):  # sn is next state\n",
    "    return game.getReinforcements(s, sn)"
   ]
  },
  {
   "cell_type": "code",
   "execution_count": 16,
   "id": "1b7ec518",
   "metadata": {},
   "outputs": [],
   "source": [
    "# Now we need a function, make_samples, for collecting a bunch of samples of state,\n",
    "# action, reinforcement, next state, next actions. We can make this function generic by passing\n",
    "# in functions to create the initial state, the next state, and the reinforcement value.\n",
    "\n",
    "def make_samples(Qnet, initial_state_f, next_state_f, reinforcement_f,\n",
    "                 valid_actions, n_samples, epsilon):\n",
    "\n",
    "    X = np.zeros((n_samples, Qnet.n_inputs))\n",
    "    print(X.shape)\n",
    "    R = np.zeros((n_samples, 1))\n",
    "    Qn = np.zeros((n_samples, 1))\n",
    "\n",
    "    s = initial_state_f()\n",
    "    # TODO: Need to expand the state when passed to epsilon_greedy too\n",
    "    expanded_state = expand_state(s)\n",
    "    a, _ = epsilon_greedy(Qnet, expanded_state, valid_actions, epsilon)\n",
    "\n",
    "    # Collect data from n_samples steps\n",
    "    for step in range(n_samples):\n",
    "        \n",
    "        sn, sp, valid = next_state_f(s, a)        # Update state, sn, from s and a\n",
    "        if not valid:\n",
    "            break\n",
    "        rn = reinforcement_f(s, sn)    # Calculate resulting reinforcement\n",
    "        an, qn = epsilon_greedy(Qnet, expand_state(sn), valid_actions, epsilon)  # choose next action\n",
    "        print(an)\n",
    "        X[step, :] = expand_state(s)\n",
    "        R[step, 0] = rn\n",
    "        Qn[step, 0] = qn\n",
    "        s, a = sn, an  # Advance one time step\n",
    "        \n",
    "        game.getBoard().showBoard(game.getPiece())\n",
    "\n",
    "    return (X, R, Qn)\n",
    "\n",
    "def expand_state(s):\n",
    "    board, piece = s\n",
    "    # Every square on the board has a 0 if empty or 1 if filled. So we take each column, make a binary string from\n",
    "    # top to bottom, and convert to decimal to create the inputs to the NN. This is great because no information\n",
    "    # is lost about the column, and you can determine whether a column is higher than another just by comparing\n",
    "    # the value. Hopefully This will help to preserve patterns\n",
    "    decimal_columns = [int(''.join([str(int(item)) for item in row]), 2) for row in board.board.T]\n",
    "    flat_piece_points = np.reshape([[point.x,point.y] for point in piece.getCurrentPoints()], 8)\n",
    "    return np.hstack((decimal_columns, flat_piece_points))"
   ]
  },
  {
   "cell_type": "code",
   "execution_count": 17,
   "id": "55589f1b",
   "metadata": {},
   "outputs": [
    {
     "name": "stdout",
     "output_type": "stream",
     "text": [
      "(18,)\n",
      "GOAL\n"
     ]
    },
    {
     "data": {
      "image/png": "[encoded data removed]",
      "text/plain": [
       "<Figure size 432x288 with 1 Axes>"
      ]
     },
     "metadata": {
      "needs_background": "light"
     },
     "output_type": "display_data"
    },
    {
     "name": "stdout",
     "output_type": "stream",
     "text": [
      "(20, 18)\n",
      "0\n"
     ]
    },
    {
     "data": {
      "image/png": "[encoded data removed]",
      "text/plain": [
       "<Figure size 432x288 with 1 Axes>"
      ]
     },
     "metadata": {
      "needs_background": "light"
     },
     "output_type": "display_data"
    },
    {
     "name": "stdout",
     "output_type": "stream",
     "text": [
      "3\n"
     ]
    },
    {
     "data": {
      "image/png": "[encoded data removed]",
      "text/plain": [
       "<Figure size 432x288 with 1 Axes>"
      ]
     },
     "metadata": {
      "needs_background": "light"
     },
     "output_type": "display_data"
    },
    {
     "name": "stdout",
     "output_type": "stream",
     "text": [
      "4\n"
     ]
    },
    {
     "data": {
      "image/png": "[encoded data removed]",
      "text/plain": [
       "<Figure size 432x288 with 1 Axes>"
      ]
     },
     "metadata": {
      "needs_background": "light"
     },
     "output_type": "display_data"
    },
    {
     "name": "stdout",
     "output_type": "stream",
     "text": [
      "1\n"
     ]
    },
    {
     "data": {
      "image/png": "[encoded data removed]",
      "text/plain": [
       "<Figure size 432x288 with 1 Axes>"
      ]
     },
     "metadata": {
      "needs_background": "light"
     },
     "output_type": "display_data"
    },
    {
     "name": "stdout",
     "output_type": "stream",
     "text": [
      "4\n"
     ]
    },
    {
     "data": {
      "image/png": "[encoded data removed]",
      "text/plain": [
       "<Figure size 432x288 with 1 Axes>"
      ]
     },
     "metadata": {
      "needs_background": "light"
     },
     "output_type": "display_data"
    },
    {
     "name": "stdout",
     "output_type": "stream",
     "text": [
      "3\n"
     ]
    },
    {
     "data": {
      "image/png": "[encoded data removed]",
      "text/plain": [
       "<Figure size 432x288 with 1 Axes>"
      ]
     },
     "metadata": {
      "needs_background": "light"
     },
     "output_type": "display_data"
    },
    {
     "name": "stdout",
     "output_type": "stream",
     "text": [
      "0\n"
     ]
    },
    {
     "data": {
      "image/png": "[encoded data removed]",
      "text/plain": [
       "<Figure size 432x288 with 1 Axes>"
      ]
     },
     "metadata": {
      "needs_background": "light"
     },
     "output_type": "display_data"
    },
    {
     "name": "stdout",
     "output_type": "stream",
     "text": [
      "2\n"
     ]
    },
    {
     "data": {
      "image/png": "[encoded data removed]",
      "text/plain": [
       "<Figure size 432x288 with 1 Axes>"
      ]
     },
     "metadata": {
      "needs_background": "light"
     },
     "output_type": "display_data"
    },
    {
     "name": "stdout",
     "output_type": "stream",
     "text": [
      "4\n"
     ]
    },
    {
     "data": {
      "image/png": "[encoded data removed]",
      "text/plain": [
       "<Figure size 432x288 with 1 Axes>"
      ]
     },
     "metadata": {
      "needs_background": "light"
     },
     "output_type": "display_data"
    },
    {
     "name": "stdout",
     "output_type": "stream",
     "text": [
      "0\n"
     ]
    },
    {
     "data": {
      "image/png": "[encoded data removed]",
      "text/plain": [
       "<Figure size 432x288 with 1 Axes>"
      ]
     },
     "metadata": {
      "needs_background": "light"
     },
     "output_type": "display_data"
    },
    {
     "name": "stdout",
     "output_type": "stream",
     "text": [
      "3\n"
     ]
    },
    {
     "data": {
      "image/png": "[encoded data removed]",
      "text/plain": [
       "<Figure size 432x288 with 1 Axes>"
      ]
     },
     "metadata": {
      "needs_background": "light"
     },
     "output_type": "display_data"
    },
    {
     "name": "stdout",
     "output_type": "stream",
     "text": [
      "1\n"
     ]
    },
    {
     "data": {
      "image/png": "[encoded data removed]",
      "text/plain": [
       "<Figure size 432x288 with 1 Axes>"
      ]
     },
     "metadata": {
      "needs_background": "light"
     },
     "output_type": "display_data"
    },
    {
     "name": "stdout",
     "output_type": "stream",
     "text": [
      "0\n"
     ]
    },
    {
     "data": {
      "image/png": "[encoded data removed]",
      "text/plain": [
       "<Figure size 432x288 with 1 Axes>"
      ]
     },
     "metadata": {
      "needs_background": "light"
     },
     "output_type": "display_data"
    },
    {
     "name": "stdout",
     "output_type": "stream",
     "text": [
      "0\n"
     ]
    },
    {
     "data": {
      "image/png": "[encoded data removed]",
      "text/plain": [
       "<Figure size 432x288 with 1 Axes>"
      ]
     },
     "metadata": {
      "needs_background": "light"
     },
     "output_type": "display_data"
    },
    {
     "name": "stdout",
     "output_type": "stream",
     "text": [
      "1\n"
     ]
    },
    {
     "data": {
      "image/png": "[encoded data removed]",
      "text/plain": [
       "<Figure size 432x288 with 1 Axes>"
      ]
     },
     "metadata": {
      "needs_background": "light"
     },
     "output_type": "display_data"
    },
    {
     "name": "stdout",
     "output_type": "stream",
     "text": [
      "4\n"
     ]
    },
    {
     "ename": "IndexError",
     "evalue": "index 20 is out of bounds for axis 0 with size 20",
     "output_type": "error",
     "traceback": [
      "\u001b[0;31m---------------------------------------------------------------------------\u001b[0m",
      "\u001b[0;31mIndexError\u001b[0m                                Traceback (most recent call last)",
      "Input \u001b[0;32mIn [17]\u001b[0m, in \u001b[0;36m<module>\u001b[0;34m\u001b[0m\n\u001b[1;32m     38\u001b[0m \u001b[38;5;28mprint\u001b[39m(\u001b[38;5;124m\"\u001b[39m\u001b[38;5;124mGOAL\u001b[39m\u001b[38;5;124m\"\u001b[39m)\n\u001b[1;32m     39\u001b[0m game\u001b[38;5;241m.\u001b[39mgetBoard()\u001b[38;5;241m.\u001b[39mshowBoard(game\u001b[38;5;241m.\u001b[39mgoalPiece)\n\u001b[0;32m---> 41\u001b[0m X, R, Qn \u001b[38;5;241m=\u001b[39m \u001b[43mmake_samples\u001b[49m\u001b[43m(\u001b[49m\u001b[43mQnet\u001b[49m\u001b[43m,\u001b[49m\u001b[43m \u001b[49m\u001b[43minitial_state\u001b[49m\u001b[43m,\u001b[49m\u001b[43m \u001b[49m\u001b[43mnext_state\u001b[49m\u001b[43m,\u001b[49m\u001b[43m \u001b[49m\u001b[43mreinf\u001b[49m\u001b[43m,\u001b[49m\u001b[43m \u001b[49m\u001b[43mvalid_actions\u001b[49m\u001b[43m,\u001b[49m\u001b[43m \u001b[49m\u001b[43mn_steps_per_trial\u001b[49m\u001b[43m,\u001b[49m\u001b[43m \u001b[49m\u001b[43mepsilon\u001b[49m\u001b[43m)\u001b[49m\n\u001b[1;32m     43\u001b[0m T \u001b[38;5;241m=\u001b[39m R \u001b[38;5;241m+\u001b[39m gamma \u001b[38;5;241m*\u001b[39m Qn\n\u001b[1;32m     44\u001b[0m Qnet\u001b[38;5;241m.\u001b[39mtrain(X, T, n_epochs, learning_rate, method\u001b[38;5;241m=\u001b[39m\u001b[38;5;124m'\u001b[39m\u001b[38;5;124madam\u001b[39m\u001b[38;5;124m'\u001b[39m)\n",
      "Input \u001b[0;32mIn [16]\u001b[0m, in \u001b[0;36mmake_samples\u001b[0;34m(Qnet, initial_state_f, next_state_f, reinforcement_f, valid_actions, n_samples, epsilon)\u001b[0m\n\u001b[1;32m     27\u001b[0m     Qn[step, \u001b[38;5;241m0\u001b[39m] \u001b[38;5;241m=\u001b[39m qn\n\u001b[1;32m     28\u001b[0m     s, a \u001b[38;5;241m=\u001b[39m sn, an  \u001b[38;5;66;03m# Advance one time step\u001b[39;00m\n\u001b[0;32m---> 30\u001b[0m     \u001b[43mgame\u001b[49m\u001b[38;5;241;43m.\u001b[39;49m\u001b[43mgetBoard\u001b[49m\u001b[43m(\u001b[49m\u001b[43m)\u001b[49m\u001b[38;5;241;43m.\u001b[39;49m\u001b[43mshowBoard\u001b[49m\u001b[43m(\u001b[49m\u001b[43mgame\u001b[49m\u001b[38;5;241;43m.\u001b[39;49m\u001b[43mgetPiece\u001b[49m\u001b[43m(\u001b[49m\u001b[43m)\u001b[49m\u001b[43m)\u001b[49m\n\u001b[1;32m     32\u001b[0m \u001b[38;5;28;01mreturn\u001b[39;00m (X, R, Qn)\n",
      "File \u001b[0;32m~/cs445/rlnn-tetris/server/Board.py:32\u001b[0m, in \u001b[0;36mBoard.showBoard\u001b[0;34m(self, piece)\u001b[0m\n\u001b[1;32m     30\u001b[0m board \u001b[38;5;241m=\u001b[39m \u001b[38;5;28mself\u001b[39m\u001b[38;5;241m.\u001b[39mboard \u001b[38;5;241m*\u001b[39m \u001b[38;5;241m2\u001b[39m\n\u001b[1;32m     31\u001b[0m \u001b[38;5;28;01mfor\u001b[39;00m point \u001b[38;5;129;01min\u001b[39;00m piece\u001b[38;5;241m.\u001b[39mgetCurrentPoints():\n\u001b[0;32m---> 32\u001b[0m     board[point\u001b[38;5;241m.\u001b[39my, point\u001b[38;5;241m.\u001b[39mx] \u001b[38;5;241m=\u001b[39m \u001b[38;5;241m1\u001b[39m\n\u001b[1;32m     33\u001b[0m plt\u001b[38;5;241m.\u001b[39mimshow(board, cmap\u001b[38;5;241m=\u001b[39mgray_map\u001b[38;5;241m.\u001b[39mreversed(), vmin\u001b[38;5;241m=\u001b[39m\u001b[38;5;241m0\u001b[39m, vmax\u001b[38;5;241m=\u001b[39m\u001b[38;5;241m2\u001b[39m)\n\u001b[1;32m     34\u001b[0m plt\u001b[38;5;241m.\u001b[39mshow()\n",
      "\u001b[0;31mIndexError\u001b[0m: index 20 is out of bounds for axis 0 with size 20"
     ]
    }
   ],
   "source": [
    "# Instantiating Initial Parameters\n",
    "n_trials = 2\n",
    "n_steps_per_trial = 20\n",
    "n_epochs = 20\n",
    "learning_rate = 0.01\n",
    "n_hidden = [50]\n",
    "gamma = 0.8\n",
    "final_epsilon = 0.0001  \n",
    "epsilon = 1.0\n",
    "epsilon_decay = np.exp(np.log(final_epsilon) / n_trials)\n",
    "\n",
    "# Instantiate Neural Network\n",
    "Qnet = NeuralNetwork(18, n_hidden, 1)\n",
    "\n",
    "# We need to set standardization parameters now so Qnet can be called to get first set of samples,\n",
    "# before it has been trained the first time.\n",
    "\n",
    "def setup_standardization(Qnet, Xmeans, Xstds, Tmeans, Tstds):\n",
    "    Qnet.Xmeans = np.array(Xmeans)\n",
    "    Qnet.Xstds = np.array(Xstds)\n",
    "    Qnet.Tmeans = np.array(Tmeans)\n",
    "    Qnet.Tstds = np.array(Tstds)\n",
    "\n",
    "# Inputs are position (1 to 10) and action (-1, 0, or 1)\n",
    "Xmeans = [np.mean(np.arange(0,2**19-1))] * 10\n",
    "Xmeans.extend([np.mean(np.arange(0,10)), np.mean(np.arange(0,20))] * 4)\n",
    "Xstds = [np.std(np.arange(0,2**19-1))] * 10\n",
    "Xstds.extend([np.std(np.arange(0,10)), np.std(np.arange(0,20))] * 4)\n",
    "setup_standardization(Qnet, Xmeans, Xstds, [5], [1])\n",
    "print(Qnet.Xmeans.shape)\n",
    "\n",
    "x_trace = np.zeros((n_trials * n_steps_per_trial, 18))\n",
    "r_trace = np.zeros((n_trials * n_steps_per_trial, 1))\n",
    "error_trace = []\n",
    "epsilon_trace = np.zeros((n_trials, 1))\n",
    "\n",
    "for trial in range(n_trials):\n",
    "    print(\"GOAL\")\n",
    "    game.getBoard().showBoard(game.goalPiece)\n",
    "    \n",
    "    X, R, Qn = make_samples(Qnet, initial_state, next_state, reinf, valid_actions, n_steps_per_trial, epsilon)\n",
    " \n",
    "    T = R + gamma * Qn\n",
    "    Qnet.train(X, T, n_epochs, learning_rate, method='adam')\n",
    "    \n",
    "    epsilon_trace[trial] = epsilon\n",
    "    i = trial * n_steps_per_trial\n",
    "    j = i + n_steps_per_trial\n",
    "    x_trace[i:j, :] = X\n",
    "    r_trace[i:j, :] = R\n",
    "    error_trace += Qnet.error_trace\n",
    "\n",
    "    print(\"END\")\n",
    "    game.getBoard().showBoard(game.getPiece())\n",
    "    \n",
    "    game.nextPiece()"
   ]
  },
  {
   "cell_type": "code",
   "execution_count": null,
   "id": "47fb5d94",
   "metadata": {},
   "outputs": [],
   "source": []
  }
 ],
 "metadata": {
  "kernelspec": {
   "display_name": "Python 3 (ipykernel)",
   "language": "python",
   "name": "python3"
  },
  "language_info": {
   "codemirror_mode": {
    "name": "ipython",
    "version": 3
   },
   "file_extension": ".py",
   "mimetype": "text/x-python",
   "name": "python",
   "nbconvert_exporter": "python",
   "pygments_lexer": "ipython3",
   "version": "3.8.13"
  }
 },
 "nbformat": 4,
 "nbformat_minor": 5
}
