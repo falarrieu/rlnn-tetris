{
 "cells": [
  {
   "cell_type": "code",
   "execution_count": 1,
   "id": "73632d58",
   "metadata": {},
   "outputs": [],
   "source": [
    "from NeuralNetwork import NeuralNetwork\n",
    "import numpy as np\n",
    "import random\n",
    "from Board import Board\n",
    "from Game import Game\n",
    "import sys"
   ]
  },
  {
   "cell_type": "code",
   "execution_count": 2,
   "id": "4bf73c26",
   "metadata": {},
   "outputs": [],
   "source": [
    "game = Game()"
   ]
  },
  {
   "cell_type": "code",
   "execution_count": 3,
   "id": "ca5c4fd7",
   "metadata": {},
   "outputs": [],
   "source": [
    "#The valid actions array is an important input to the reinforcement learning model,\n",
    "# as it constrains the set of actions that the model can choose from in each state.\n",
    "# By specifying the valid actions array, you can ensure that the model only learns to\n",
    "# choose actions that are valid in the current state of the game, and avoid actions that\n",
    "# would result in an invalid game state.\n",
    "\n",
    "# valid_actions = [left, right, CC, CW, drop]\n",
    "valid_actions = [0, 1, 2, 3, 4] "
   ]
  },
  {
   "cell_type": "code",
   "execution_count": 4,
   "id": "c7fd1a8d",
   "metadata": {},
   "outputs": [],
   "source": [
    "# Remember that we used ϵ to indicate the probability of taking a random action.\n",
    "# Its value is from 0 to 1. Given a Q net, called Qnet, the current state,\n",
    "# the set of valid_actions and epsilon, we can define a function that either returns\n",
    "# a random choice from valid_actions or the best action determined by the values\n",
    "# of Q produced by Qnet for the current state and all valid_actions. \n",
    "# This is referred to as an ϵ-greedy policy.\n",
    "\n",
    "def epsilon_greedy(Qnet, state, valid_actions, epsilon):\n",
    "    '''epsilon is between 0 and 1 and is the probability of returning a random action'''\n",
    "    valid_actions = game.getValidActions()\n",
    "    if np.random.uniform() < epsilon:\n",
    "        # Random Move\n",
    "        action = np.random.choice(valid_actions)\n",
    "        \n",
    "    else:\n",
    "        # Greedy Move\n",
    "        actions_randomly_ordered = random.sample(valid_actions, len(valid_actions))\n",
    "        Qs = [Qnet.use(np.array(state)) for a in actions_randomly_ordered]\n",
    "        ai = np.argmax(Qs)\n",
    "        action = actions_randomly_ordered[ai]\n",
    "        \n",
    "    Q = Qnet.use(np.array(state))\n",
    "    \n",
    "    return action, Q   # return the chosen action and Q(state, action)"
   ]
  },
  {
   "cell_type": "code",
   "execution_count": 5,
   "id": "efca8a3f",
   "metadata": {},
   "outputs": [],
   "source": [
    "# Initial state should return board state and initial piece state\n",
    "def initial_state():   \n",
    "    return game.getBoard(), game.getPiece() \n",
    "\n",
    "# Next state needs to be the previous frame altered by the action\n",
    "def next_state(s, a):\n",
    "    return game.getNextFrame(s, a)\n",
    "\n",
    "def reinf(s, sn):  # sn is next state\n",
    "    return game.getReinforcements(s, sn)"
   ]
  },
  {
   "cell_type": "code",
   "execution_count": 6,
   "id": "1b7ec518",
   "metadata": {},
   "outputs": [],
   "source": [
    "# Now we need a function, make_samples, for collecting a bunch of samples of state,\n",
    "# action, reinforcement, next state, next actions. We can make this function generic by passing\n",
    "# in functions to create the initial state, the next state, and the reinforcement value.\n",
    "\n",
    "def make_samples(Qnet, initial_state_f, next_state_f, reinforcement_f,\n",
    "                 valid_actions, n_samples, epsilon):\n",
    "\n",
    "    X = np.zeros((n_samples, Qnet.n_inputs))\n",
    "    print(X.shape)\n",
    "    R = np.zeros((n_samples, 1))\n",
    "    Qn = np.zeros((n_samples, 1))\n",
    "\n",
    "    s = initial_state_f()\n",
    "    # TODO: Need to expand the state when passed to epsilon_greedy too\n",
    "    expanded_state = expand_state(s)\n",
    "    a, _ = epsilon_greedy(Qnet, expanded_state, valid_actions, epsilon)\n",
    "\n",
    "    # Collect data from n_samples steps\n",
    "    for step in range(n_samples):\n",
    "        \n",
    "        next_state = next_state_f(s, a)        # Update state, sn, from s and a\n",
    "        sn = next_state[:2]\n",
    "        will_lock = next_state[2]\n",
    "        if will_lock:\n",
    "            game.lockPiece()\n",
    "            break\n",
    "        rn = reinforcement_f(s, sn)    # Calculate resulting reinforcement\n",
    "        an, qn = epsilon_greedy(Qnet, expand_state(sn), valid_actions, epsilon)  # choose next action\n",
    "        print(an)\n",
    "        X[step, :] = expand_state(s)\n",
    "        R[step, 0] = rn\n",
    "        Qn[step, 0] = qn\n",
    "        s, a = sn, an  # Advance one time step\n",
    "        \n",
    "        game.getBoard().showBoard(game.getPiece())\n",
    "\n",
    "    return (X, R, Qn)\n",
    "\n",
    "def expand_state(s):\n",
    "    board, piece = s\n",
    "    # Every square on the board has a 0 if empty or 1 if filled. So we take each column, make a binary string from\n",
    "    # top to bottom, and convert to decimal to create the inputs to the NN. This is great because no information\n",
    "    # is lost about the column, and you can determine whether a column is higher than another just by comparing\n",
    "    # the value. Hopefully This will help to preserve patterns\n",
    "    decimal_columns = [int(''.join([str(int(item)) for item in row]), 2) for row in board.board.T]\n",
    "    flat_piece_points = np.reshape([[point.x,point.y] for point in piece.getCurrentPoints()], 8)\n",
    "    return np.hstack((decimal_columns, flat_piece_points))"
   ]
  },
  {
   "cell_type": "code",
   "execution_count": 7,
   "id": "55589f1b",
   "metadata": {},
   "outputs": [
    {
     "name": "stdout",
     "output_type": "stream",
     "text": [
      "(18,)\n",
      "GOAL\n"
     ]
    },
    {
     "data": {
      "image/png": "[encoded data removed]",
      "text/plain": [
       "<Figure size 432x288 with 1 Axes>"
      ]
     },
     "metadata": {
      "needs_background": "light"
     },
     "output_type": "display_data"
    },
    {
     "name": "stdout",
     "output_type": "stream",
     "text": [
      "(20, 18)\n",
      "2\n"
     ]
    },
    {
     "data": {
      "image/png": "[encoded data removed]",
      "text/plain": [
       "<Figure size 432x288 with 1 Axes>"
      ]
     },
     "metadata": {
      "needs_background": "light"
     },
     "output_type": "display_data"
    },
    {
     "name": "stdout",
     "output_type": "stream",
     "text": [
      "4\n"
     ]
    },
    {
     "data": {
      "image/png": "[encoded data removed]",
      "text/plain": [
       "<Figure size 432x288 with 1 Axes>"
      ]
     },
     "metadata": {
      "needs_background": "light"
     },
     "output_type": "display_data"
    },
    {
     "name": "stdout",
     "output_type": "stream",
     "text": [
      "1\n"
     ]
    },
    {
     "data": {
      "image/png": "[encoded data removed]",
      "text/plain": [
       "<Figure size 432x288 with 1 Axes>"
      ]
     },
     "metadata": {
      "needs_background": "light"
     },
     "output_type": "display_data"
    },
    {
     "name": "stdout",
     "output_type": "stream",
     "text": [
      "3\n"
     ]
    },
    {
     "data": {
      "image/png": "[encoded data removed]",
      "text/plain": [
       "<Figure size 432x288 with 1 Axes>"
      ]
     },
     "metadata": {
      "needs_background": "light"
     },
     "output_type": "display_data"
    },
    {
     "name": "stdout",
     "output_type": "stream",
     "text": [
      "2\n"
     ]
    },
    {
     "data": {
      "image/png": "[encoded data removed]",
      "text/plain": [
       "<Figure size 432x288 with 1 Axes>"
      ]
     },
     "metadata": {
      "needs_background": "light"
     },
     "output_type": "display_data"
    },
    {
     "name": "stdout",
     "output_type": "stream",
     "text": [
      "0\n"
     ]
    },
    {
     "data": {
      "image/png": "[encoded data removed]",
      "text/plain": [
       "<Figure size 432x288 with 1 Axes>"
      ]
     },
     "metadata": {
      "needs_background": "light"
     },
     "output_type": "display_data"
    },
    {
     "name": "stdout",
     "output_type": "stream",
     "text": [
      "1\n"
     ]
    },
    {
     "data": {
      "image/png": "[encoded data removed]",
      "text/plain": [
       "<Figure size 432x288 with 1 Axes>"
      ]
     },
     "metadata": {
      "needs_background": "light"
     },
     "output_type": "display_data"
    },
    {
     "name": "stdout",
     "output_type": "stream",
     "text": [
      "2\n"
     ]
    },
    {
     "data": {
      "image/png": "[encoded data removed]",
      "text/plain": [
       "<Figure size 432x288 with 1 Axes>"
      ]
     },
     "metadata": {
      "needs_background": "light"
     },
     "output_type": "display_data"
    },
    {
     "name": "stdout",
     "output_type": "stream",
     "text": [
      "3\n"
     ]
    },
    {
     "data": {
      "image/png": "[encoded data removed]",
      "text/plain": [
       "<Figure size 432x288 with 1 Axes>"
      ]
     },
     "metadata": {
      "needs_background": "light"
     },
     "output_type": "display_data"
    },
    {
     "name": "stdout",
     "output_type": "stream",
     "text": [
      "0\n"
     ]
    },
    {
     "data": {
      "image/png": "[encoded data removed]",
      "text/plain": [
       "<Figure size 432x288 with 1 Axes>"
      ]
     },
     "metadata": {
      "needs_background": "light"
     },
     "output_type": "display_data"
    },
    {
     "name": "stdout",
     "output_type": "stream",
     "text": [
      "2\n"
     ]
    },
    {
     "data": {
      "image/png": "[encoded data removed]",
      "text/plain": [
       "<Figure size 432x288 with 1 Axes>"
      ]
     },
     "metadata": {
      "needs_background": "light"
     },
     "output_type": "display_data"
    },
    {
     "name": "stdout",
     "output_type": "stream",
     "text": [
      "0\n"
     ]
    },
    {
     "data": {
      "image/png": "[encoded data removed]",
      "text/plain": [
       "<Figure size 432x288 with 1 Axes>"
      ]
     },
     "metadata": {
      "needs_background": "light"
     },
     "output_type": "display_data"
    },
    {
     "name": "stdout",
     "output_type": "stream",
     "text": [
      "4\n"
     ]
    },
    {
     "data": {
      "image/png": "[encoded data removed]",
      "text/plain": [
       "<Figure size 432x288 with 1 Axes>"
      ]
     },
     "metadata": {
      "needs_background": "light"
     },
     "output_type": "display_data"
    },
    {
     "name": "stdout",
     "output_type": "stream",
     "text": [
      "1\n"
     ]
    },
    {
     "data": {
      "image/png": "[encoded data removed]",
      "text/plain": [
       "<Figure size 432x288 with 1 Axes>"
      ]
     },
     "metadata": {
      "needs_background": "light"
     },
     "output_type": "display_data"
    },
    {
     "name": "stdout",
     "output_type": "stream",
     "text": [
      "2\n"
     ]
    },
    {
     "data": {
      "image/png": "[encoded data removed]",
      "text/plain": [
       "<Figure size 432x288 with 1 Axes>"
      ]
     },
     "metadata": {
      "needs_background": "light"
     },
     "output_type": "display_data"
    },
    {
     "name": "stdout",
     "output_type": "stream",
     "text": [
      "4\n"
     ]
    },
    {
     "data": {
      "image/png": "[encoded data removed]",
      "text/plain": [
       "<Figure size 432x288 with 1 Axes>"
      ]
     },
     "metadata": {
      "needs_background": "light"
     },
     "output_type": "display_data"
    },
    {
     "name": "stdout",
     "output_type": "stream",
     "text": [
      "Adam: Epoch 2 Error=1.55952\n",
      "Adam: Epoch 4 Error=0.58227\n",
      "Adam: Epoch 6 Error=0.53447\n",
      "Adam: Epoch 8 Error=0.92722\n",
      "Adam: Epoch 10 Error=0.97508\n",
      "Adam: Epoch 12 Error=0.76737\n",
      "Adam: Epoch 14 Error=0.47127\n",
      "Adam: Epoch 16 Error=0.35184\n",
      "Adam: Epoch 18 Error=0.49876\n",
      "Adam: Epoch 20 Error=0.60820\n",
      "END\n"
     ]
    },
    {
     "data": {
      "image/png": "[encoded data removed]",
      "text/plain": [
       "<Figure size 432x288 with 1 Axes>"
      ]
     },
     "metadata": {
      "needs_background": "light"
     },
     "output_type": "display_data"
    },
    {
     "name": "stdout",
     "output_type": "stream",
     "text": [
      "GOAL\n"
     ]
    },
    {
     "data": {
      "image/png": "[encoded data removed]",
      "text/plain": [
       "<Figure size 432x288 with 1 Axes>"
      ]
     },
     "metadata": {
      "needs_background": "light"
     },
     "output_type": "display_data"
    },
    {
     "name": "stdout",
     "output_type": "stream",
     "text": [
      "(20, 18)\n",
      "3\n"
     ]
    },
    {
     "data": {
      "image/png": "[encoded data removed]",
      "text/plain": [
       "<Figure size 432x288 with 1 Axes>"
      ]
     },
     "metadata": {
      "needs_background": "light"
     },
     "output_type": "display_data"
    },
    {
     "name": "stdout",
     "output_type": "stream",
     "text": [
      "0\n"
     ]
    },
    {
     "data": {
      "image/png": "[encoded data removed]",
      "text/plain": [
       "<Figure size 432x288 with 1 Axes>"
      ]
     },
     "metadata": {
      "needs_background": "light"
     },
     "output_type": "display_data"
    },
    {
     "name": "stdout",
     "output_type": "stream",
     "text": [
      "4\n"
     ]
    },
    {
     "data": {
      "image/png": "[encoded data removed]",
      "text/plain": [
       "<Figure size 432x288 with 1 Axes>"
      ]
     },
     "metadata": {
      "needs_background": "light"
     },
     "output_type": "display_data"
    },
    {
     "name": "stdout",
     "output_type": "stream",
     "text": [
      "0\n"
     ]
    },
    {
     "data": {
      "image/png": "[encoded data removed]",
      "text/plain": [
       "<Figure size 432x288 with 1 Axes>"
      ]
     },
     "metadata": {
      "needs_background": "light"
     },
     "output_type": "display_data"
    },
    {
     "name": "stdout",
     "output_type": "stream",
     "text": [
      "0\n"
     ]
    },
    {
     "data": {
      "image/png": "[encoded data removed]",
      "text/plain": [
       "<Figure size 432x288 with 1 Axes>"
      ]
     },
     "metadata": {
      "needs_background": "light"
     },
     "output_type": "display_data"
    },
    {
     "name": "stdout",
     "output_type": "stream",
     "text": [
      "3\n"
     ]
    },
    {
     "data": {
      "image/png": "[encoded data removed]",
      "text/plain": [
       "<Figure size 432x288 with 1 Axes>"
      ]
     },
     "metadata": {
      "needs_background": "light"
     },
     "output_type": "display_data"
    },
    {
     "name": "stdout",
     "output_type": "stream",
     "text": [
      "2\n"
     ]
    },
    {
     "data": {
      "image/png": "[encoded data removed]",
      "text/plain": [
       "<Figure size 432x288 with 1 Axes>"
      ]
     },
     "metadata": {
      "needs_background": "light"
     },
     "output_type": "display_data"
    },
    {
     "name": "stdout",
     "output_type": "stream",
     "text": [
      "1\n"
     ]
    },
    {
     "data": {
      "image/png": "[encoded data removed]",
      "text/plain": [
       "<Figure size 432x288 with 1 Axes>"
      ]
     },
     "metadata": {
      "needs_background": "light"
     },
     "output_type": "display_data"
    },
    {
     "name": "stdout",
     "output_type": "stream",
     "text": [
      "4\n"
     ]
    },
    {
     "data": {
      "image/png": "[encoded data removed]",
      "text/plain": [
       "<Figure size 432x288 with 1 Axes>"
      ]
     },
     "metadata": {
      "needs_background": "light"
     },
     "output_type": "display_data"
    },
    {
     "name": "stdout",
     "output_type": "stream",
     "text": [
      "2\n"
     ]
    },
    {
     "data": {
      "image/png": "[encoded data removed]",
      "text/plain": [
       "<Figure size 432x288 with 1 Axes>"
      ]
     },
     "metadata": {
      "needs_background": "light"
     },
     "output_type": "display_data"
    },
    {
     "name": "stdout",
     "output_type": "stream",
     "text": [
      "1\n"
     ]
    },
    {
     "data": {
      "image/png": "[encoded data removed]",
      "text/plain": [
       "<Figure size 432x288 with 1 Axes>"
      ]
     },
     "metadata": {
      "needs_background": "light"
     },
     "output_type": "display_data"
    },
    {
     "name": "stdout",
     "output_type": "stream",
     "text": [
      "3\n"
     ]
    },
    {
     "data": {
      "image/png": "[encoded data removed]",
      "text/plain": [
       "<Figure size 432x288 with 1 Axes>"
      ]
     },
     "metadata": {
      "needs_background": "light"
     },
     "output_type": "display_data"
    },
    {
     "name": "stdout",
     "output_type": "stream",
     "text": [
      "2\n"
     ]
    },
    {
     "data": {
      "image/png": "[encoded data removed]",
      "text/plain": [
       "<Figure size 432x288 with 1 Axes>"
      ]
     },
     "metadata": {
      "needs_background": "light"
     },
     "output_type": "display_data"
    },
    {
     "name": "stdout",
     "output_type": "stream",
     "text": [
      "4\n"
     ]
    },
    {
     "data": {
      "image/png": "[encoded data removed]",
      "text/plain": [
       "<Figure size 432x288 with 1 Axes>"
      ]
     },
     "metadata": {
      "needs_background": "light"
     },
     "output_type": "display_data"
    },
    {
     "name": "stdout",
     "output_type": "stream",
     "text": [
      "Adam: Epoch 2 Error=1.24224\n",
      "Adam: Epoch 4 Error=0.87062\n",
      "Adam: Epoch 6 Error=1.07674\n",
      "Adam: Epoch 8 Error=1.12114\n",
      "Adam: Epoch 10 Error=0.97838\n",
      "Adam: Epoch 12 Error=0.86808\n",
      "Adam: Epoch 14 Error=0.90079\n",
      "Adam: Epoch 16 Error=0.95821\n",
      "Adam: Epoch 18 Error=0.93727\n",
      "Adam: Epoch 20 Error=0.86673\n",
      "END\n"
     ]
    },
    {
     "data": {
      "image/png": "[encoded data removed]",
      "text/plain": [
       "<Figure size 432x288 with 1 Axes>"
      ]
     },
     "metadata": {
      "needs_background": "light"
     },
     "output_type": "display_data"
    }
   ],
   "source": [
    "# Instantiating Initial Parameters\n",
    "n_trials = 2\n",
    "n_steps_per_trial = 20\n",
    "n_epochs = 20\n",
    "learning_rate = 0.01\n",
    "n_hidden = [50]\n",
    "gamma = 0.8\n",
    "final_epsilon = 0.0001  \n",
    "epsilon = 1.0\n",
    "epsilon_decay = np.exp(np.log(final_epsilon) / n_trials)\n",
    "\n",
    "# Instantiate Neural Network\n",
    "Qnet = NeuralNetwork(18, n_hidden, 1)\n",
    "\n",
    "# We need to set standardization parameters now so Qnet can be called to get first set of samples,\n",
    "# before it has been trained the first time.\n",
    "\n",
    "def setup_standardization(Qnet, Xmeans, Xstds, Tmeans, Tstds):\n",
    "    Qnet.Xmeans = np.array(Xmeans)\n",
    "    Qnet.Xstds = np.array(Xstds)\n",
    "    Qnet.Tmeans = np.array(Tmeans)\n",
    "    Qnet.Tstds = np.array(Tstds)\n",
    "\n",
    "# Inputs are position (1 to 10) and action (-1, 0, or 1)\n",
    "Xmeans = [np.mean(np.arange(0,2**19-1))] * 10\n",
    "Xmeans.extend([np.mean(np.arange(0,10)), np.mean(np.arange(0,20))] * 4)\n",
    "Xstds = [np.std(np.arange(0,2**19-1))] * 10\n",
    "Xstds.extend([np.std(np.arange(0,10)), np.std(np.arange(0,20))] * 4)\n",
    "setup_standardization(Qnet, Xmeans, Xstds, [5], [1])\n",
    "print(Qnet.Xmeans.shape)\n",
    "\n",
    "x_trace = np.zeros((n_trials * n_steps_per_trial, 18))\n",
    "r_trace = np.zeros((n_trials * n_steps_per_trial, 1))\n",
    "error_trace = []\n",
    "epsilon_trace = np.zeros((n_trials, 1))\n",
    "\n",
    "for trial in range(n_trials):\n",
    "    print(\"GOAL\")\n",
    "    game.getBoard().showBoard(game.goalPiece)\n",
    "    \n",
    "    X, R, Qn = make_samples(Qnet, initial_state, next_state, reinf, valid_actions, n_steps_per_trial, epsilon)\n",
    " \n",
    "    T = R + gamma * Qn\n",
    "    Qnet.train(X, T, n_epochs, learning_rate, method='adam')\n",
    "    \n",
    "    epsilon_trace[trial] = epsilon\n",
    "    i = trial * n_steps_per_trial\n",
    "    j = i + n_steps_per_trial\n",
    "    x_trace[i:j, :] = X\n",
    "    r_trace[i:j, :] = R\n",
    "    error_trace += Qnet.error_trace\n",
    "\n",
    "    print(\"END\")\n",
    "    game.getBoard().showBoard(game.getPiece())\n",
    "    \n",
    "    game.nextPiece()"
   ]
  },
  {
   "cell_type": "code",
   "execution_count": null,
   "id": "47fb5d94",
   "metadata": {},
   "outputs": [],
   "source": []
  }
 ],
 "metadata": {
  "kernelspec": {
   "display_name": "Python 3 (ipykernel)",
   "language": "python",
   "name": "python3"
  },
  "language_info": {
   "codemirror_mode": {
    "name": "ipython",
    "version": 3
   },
   "file_extension": ".py",
   "mimetype": "text/x-python",
   "name": "python",
   "nbconvert_exporter": "python",
   "pygments_lexer": "ipython3",
   "version": "3.8.10"
  }
 },
 "nbformat": 4,
 "nbformat_minor": 5
}
