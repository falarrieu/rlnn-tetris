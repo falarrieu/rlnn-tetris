{
 "cells": [
  {
   "cell_type": "markdown",
   "metadata": {},
   "source": [
    "$\\newcommand{\\xv}{\\mathbf{x}}\n",
    "\\newcommand{\\Xv}{\\mathbf{X}}\n",
    "\\newcommand{\\yv}{\\mathbf{y}}\n",
    "\\newcommand{\\zv}{\\mathbf{z}}\n",
    "\\newcommand{\\av}{\\mathbf{a}}\n",
    "\\newcommand{\\Wv}{\\mathbf{W}}\n",
    "\\newcommand{\\wv}{\\mathbf{w}}\n",
    "\\newcommand{\\tv}{\\mathbf{t}}\n",
    "\\newcommand{\\Tv}{\\mathbf{T}}\n",
    "\\newcommand{\\muv}{\\boldsymbol{\\mu}}\n",
    "\\newcommand{\\sigmav}{\\boldsymbol{\\sigma}}\n",
    "\\newcommand{\\phiv}{\\boldsymbol{\\phi}}\n",
    "\\newcommand{\\Phiv}{\\boldsymbol{\\Phi}}\n",
    "\\newcommand{\\Sigmav}{\\boldsymbol{\\Sigma}}\n",
    "\\newcommand{\\Lambdav}{\\boldsymbol{\\Lambda}}\n",
    "\\newcommand{\\half}{\\frac{1}{2}}\n",
    "\\newcommand{\\argmax}[1]{\\underset{#1}{\\operatorname{argmax}}}\n",
    "\\newcommand{\\argmin}[1]{\\underset{#1}{\\operatorname{argmin}}}$"
   ]
  },
  {
   "cell_type": "markdown",
   "metadata": {},
   "source": [
    "# Project Proposal for CS445"
   ]
  },
  {
   "attachments": {},
   "cell_type": "markdown",
   "metadata": {},
   "source": [
    "Tyson O'Leary and Freddy Larrieu"
   ]
  },
  {
   "cell_type": "markdown",
   "metadata": {},
   "source": [
    "## Introduction"
   ]
  },
  {
   "attachments": {},
   "cell_type": "markdown",
   "metadata": {},
   "source": [
    "For our project, we will create an AI to play Tetris. It will use a neural network and reinforcement learning to learn to play tetris optimally. This will require us to either find an implementation of Tetris or implement the game ourselves, then define our states and actions to be used by the Q-net. \n",
    "\n",
    "The questions we will seek to answer:\n",
    "  * What is the highest number of cleared lines our AI can reach?\n",
    "  * What is the highest score our AI can achieve?\n",
    "  * Can we split this problem into multiple neural networks to solve different parts of the problem?\n",
    "\n",
    "We hypothesize that copying the reinforcement learning methods we learned in class most likely will not produce satisfactory results. We plan to explore multiple definitions for the actions and states, as well as multiple architectures like an ensemble model."
   ]
  },
  {
   "cell_type": "markdown",
   "metadata": {},
   "source": [
    "## Methods"
   ]
  },
  {
   "cell_type": "markdown",
   "metadata": {},
   "source": [
    "Explain why you wish to do the proposed project and the steps you will take to complete the project. Describe the methods you will use.  What are the sources of code or data?  Will you define new algorithms and/or implementations, or download ones from an on-line source?\n",
    "\n",
    "You may work on your own, or form a team of up to four other students in this class. In this proposal, define how the work on the project will be divided among the team members.  It is not sufficient to just state that all team members will be working together.  "
   ]
  },
  {
   "attachments": {},
   "cell_type": "markdown",
   "metadata": {},
   "source": [
    "We both really enjoy Tetris and we are interested in applying reinforcement learning to a more complex problem than we've seen in class. Applying it to tetris will be constantly interesting, and the research we've done shows it also will not be trivial. \n",
    "\n",
    "__*Add description of our methods, code sources, algorithms*__"
   ]
  },
  {
   "attachments": {},
   "cell_type": "markdown",
   "metadata": {},
   "source": [
    "## Possible Results\n",
    "\n",
    "#### *What is the highest number of cleared lines our AI can reach?*\n",
    "\n",
    "The world record for highest number of lines cleared in Tetris (by a human) is 4,988 lines by Harry Hong. So, 5000 cleared lines would be a good starting goal for our AI. However, others have created Tetris AIs before and achieved much higher results, so it is very possible we could do the same.\n",
    "\n",
    "#### *What is the highest score our AI can achieve?*\n",
    "\n",
    "This will be a secondary goal to the number of lines cleared. More lines cleared at once means more points, but it may depend on whether we incentivize survival or score more, because often clearing single lines over and over could be an easier way to survive. However, it should still be possible to get a high score. Our goal will be 999,999.\n",
    "\n",
    "#### *Can we split this problem into multiple neural networks to solve different parts of the problem?*\n",
    "\n",
    "We hypothesize that we can split the problem into two reinforcement learning neural networks. One would learn how to move a piece from a starting position to a landing position and the other would learn to choose the best end position given the current piece and board state."
   ]
  },
  {
   "attachments": {},
   "cell_type": "markdown",
   "metadata": {},
   "source": [
    "## Timeline\n",
    "\n",
    "Make a list with at least four entries with dates and describe what each team member will accomplish by these dates.  This is for your use.  Your grade will not depend on meeting these deadlines.\n",
    "\n",
    "1. Complete Python implementation of Tetris - by *DATE*\n",
    "2. Complete Python implementation and training of movement neural network - by *DATE*\n",
    "3. Complete Python implementation and training of best move nerual network - by *DATE*\n",
    "4. Combine the networks to play Tetris - by *DATE*\n",
    "\n",
    "Stretch:\n",
    "\n",
    "5. Implement Tetris in frontend React JS app and access the neural network through API endpoints.\n"
   ]
  },
  {
   "cell_type": "markdown",
   "metadata": {},
   "source": [
    "## Check-in"
   ]
  },
  {
   "cell_type": "markdown",
   "metadata": {},
   "source": [
    "Do not include this section in your notebook.\n",
    "\n",
    "Your proposal be not more than two pages in length, but you will submit your notebook in Canvas and not submit a printed version.\n",
    "\n",
    "Name your notebook ```Lastname-proposal.ipynb```.  So, for me it would be ```Krishnaswamy-Proposal.ipynb```.  Submit the file using the ```Project Proposal``` link on Canvas.  *Do not submit the project proposal via email!*\n",
    "\n",
    "Grading will be based on \n",
    "\n",
    "  * clarity of describing your motivation and methods,\n",
    "  * division of work among team members, if applicable.\n",
    "  \n",
    "The instructor may ask you to revise your project and resubmit your proposal to make sure your proposed project is within scope and that you don't under- or overcommit.\n",
    "  \n",
    "Submitting a proposal will get you 15% of the final overall grade on the project!  These are easy points, do not give them up!"
   ]
  }
 ],
 "metadata": {
  "kernelspec": {
   "display_name": "Python 3",
   "language": "python",
   "name": "python3"
  },
  "language_info": {
   "codemirror_mode": {
    "name": "ipython",
    "version": 3
   },
   "file_extension": ".py",
   "mimetype": "text/x-python",
   "name": "python",
   "nbconvert_exporter": "python",
   "pygments_lexer": "ipython3",
   "version": "3.7.7"
  },
  "toc": {
   "base_numbering": 1,
   "nav_menu": {},
   "number_sections": true,
   "sideBar": true,
   "skip_h1_title": false,
   "title_cell": "Table of Contents",
   "title_sidebar": "Contents",
   "toc_cell": false,
   "toc_position": {},
   "toc_section_display": true,
   "toc_window_display": false
  }
 },
 "nbformat": 4,
 "nbformat_minor": 1
}
